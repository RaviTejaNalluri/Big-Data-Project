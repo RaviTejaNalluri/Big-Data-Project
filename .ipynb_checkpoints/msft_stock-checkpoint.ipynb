{
 "cells": [
  {
   "cell_type": "code",
   "execution_count": null,
   "id": "6fbf3db6-2405-4a55-b61a-1dd78c4e10be",
   "metadata": {},
   "outputs": [],
   "source": [
    "import pandas as pd"
   ]
  },
  {
   "cell_type": "code",
   "execution_count": null,
   "id": "2bcf7e40-bb43-4b97-ae70-db181f32233c",
   "metadata": {},
   "outputs": [],
   "source": [
    "msft_data='MSFT_data.parquet'"
   ]
  },
  {
   "cell_type": "code",
   "execution_count": null,
   "id": "cb8094e7-ebc6-4e52-aba0-ad47639857ab",
   "metadata": {},
   "outputs": [],
   "source": [
    "msft_df=pd.read_parquet(nvda_data)"
   ]
  }
 ],
 "metadata": {
  "kernelspec": {
   "display_name": "Python 3 (ipykernel)",
   "language": "python",
   "name": "python3"
  },
  "language_info": {
   "name": ""
  }
 },
 "nbformat": 4,
 "nbformat_minor": 5
}
